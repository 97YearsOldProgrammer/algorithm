{
 "cells": [
  {
   "cell_type": "markdown",
   "id": "17308ed8-a5f0-4ccc-8868-769ff030bb66",
   "metadata": {},
   "source": [
    "### Test data set\n",
    "\n",
    "> Length = 1500bps   \n",
    "> Flank  = 100bps   \n",
    "> Minin  = 50bps   \n",
    "> Minex  = 50bps   \n",
    "> Maxs   = 3"
   ]
  },
  {
   "cell_type": "markdown",
   "id": "12c8be13-d945-4631-b6ec-93977c1ee348",
   "metadata": {},
   "source": [
    "### Idea1\n",
    "using different nested loop so we could do more precise unsatisfied intron and exon remove"
   ]
  },
  {
   "cell_type": "code",
   "execution_count": null,
   "id": "d7beb08d-93b6-4a0d-9973-d18f3c310b0a",
   "metadata": {},
   "outputs": [],
   "source": [
    "def gtag_sites(seq, flank, minex):\n",
    "    dons = []\n",
    "    accs = []\n",
    "    for i in range(flank + minex, len(seq) -flank -minex -1):\n",
    "        if seq[i:i+2]   == 'GT': dons.append(i)\n",
    "        if seq[i-1:i+1] == 'AG': accs.append(i)\n",
    "    return dons, accs"
   ]
  },
  {
   "cell_type": "markdown",
   "id": "c7678f67-8fb2-4b86-a672-b7bb398d5049",
   "metadata": {},
   "source": [
    "using original `gtag extracting` doesn't work that well\n",
    "original one gives out dons and accs in version of list\n",
    "\n",
    "> dons = []   \n",
    "> accs = []   \n",
    "\n",
    "since for using up a for loop to make all possible combination, we also need the enumerate so that each time when the nested loop pass down to the next combination\n",
    "there would require more memory and time complexity for computer to keep track of those numbers"
   ]
  },
  {
   "cell_type": "code",
   "execution_count": null,
   "id": "88d476d9-80bf-4c7c-9f74-3830f49006b9",
   "metadata": {},
   "outputs": [],
   "source": [
    "dons, accs = gtag_sites(seq, 100, 50)\n",
    "\n",
    "for i1, d1 in enumerate(dons):\n",
    "    if d1 - 100 -1 < 50: continue\n",
    "    \n",
    "    for j1, a1 in enumerate(accs):\n",
    "        if a1 - d1 < 50: continue\n",
    "        \n",
    "        for i2, d2 in enumerate(dons[i1:]):\n",
    "            if d2 - a1 < 50: continue\n",
    "            \n",
    "            for j2, a2 in enumerate(accs[j1:]):\n",
    "                if a2 - d2 < 50: continue\n",
    "                \n",
    "                for i3, d3 in enumerate(dons[i2:]):\n",
    "                    if d3 - a2 < 50: continue\n",
    "            \n",
    "                    for a3 in accs[j2:]:\n",
    "                        if a3 - d3 < 50: continue\n",
    "                        if a3 - 100 - 1 < 50:  continue\n",
    "                        print(d1, a1, d2, a2, d3, a3)"
   ]
  },
  {
   "cell_type": "markdown",
   "id": "6fa9e619-7674-4dfa-93de-3cea7919a27f",
   "metadata": {
    "tags": []
   },
   "source": [
    "Performance: 110.64s user 0.56s system 99% cpu 1:51.22 total"
   ]
  },
  {
   "cell_type": "markdown",
   "id": "0665a566-6154-4410-bfdb-8cca2d988554",
   "metadata": {
    "tags": []
   },
   "source": [
    "### Idea2   \n",
    "using dictionary instead of list for donor and acceptor site"
   ]
  },
  {
   "cell_type": "code",
   "execution_count": null,
   "id": "054bbd82-6e43-4800-85b6-891faf8a9e75",
   "metadata": {
    "tags": []
   },
   "outputs": [],
   "source": [
    "def gtag_sites(seq, flank, minex):\n",
    "    dons = {}\n",
    "    accs = {}\n",
    "    d = 0\n",
    "    a = 0\n",
    "    for i in range(flank + minex, len(seq) -flank -minex -1):\n",
    "        if seq[i:i+2]   == 'GT': \n",
    "            d += 1\n",
    "            dons[d] = i\n",
    "        if seq[i-1:i+1] == 'AG': \n",
    "            a += 1\n",
    "            accs[a] = i\n",
    "    return d, a, dons, accs"
   ]
  },
  {
   "cell_type": "markdown",
   "id": "2a0c90df-baa8-4c1f-9d6e-a01927dd4e17",
   "metadata": {},
   "source": [
    "in the revised version, the gtag sites use a dictionary for extracting informaton   \n",
    "\n",
    "> dons = { `index`(int) : `donor site`(int)...}   \n",
    "> accs = { `index`(int) : `accep site`(int)...}   \n",
    "\n",
    "it would generate better performance when extracting ideal output and faster through looping"
   ]
  },
  {
   "cell_type": "code",
   "execution_count": null,
   "id": "978e7527-a8f1-40d4-a7b2-a41ccd20c759",
   "metadata": {},
   "outputs": [],
   "source": [
    "flank = 100\n",
    "minex = 50\n",
    "minin = 50\n",
    "d, a, dons, accs = gtag_sites(seq, flank, minex)\n",
    "\n",
    "for d1 in range(1, d+1):\n",
    "    if dons[d1] < minex + flank + 1: continue\n",
    "    \n",
    "    for a1 in range(1, a+1):\n",
    "        if accs[a1] < dons[d1] + minin: continue\n",
    "\n",
    "        for d2 in range(d1+1, d+1):\n",
    "            if dons[d2] < accs[a1] + minex: continue\n",
    "\n",
    "            for a2 in range(a1+1, a+1):\n",
    "                if accs[a2] < dons[d2] + minin: continue\n",
    "\n",
    "                for d3 in range(d2+1, d+1):\n",
    "                    if dons[d3] < accs[a2] + minex: continue\n",
    "                    \n",
    "                    for a3 in range(a2+1, a+1):\n",
    "                        if accs[a3] < minin + dons[d3]: continue\n",
    "                        if accs[a3] + flank + minex > len(seq):  continue\n",
    "                        print( dons[d1], accs[a1], dons[d2], accs[a2], dons[d3], accs[a3] )"
   ]
  },
  {
   "cell_type": "markdown",
   "id": "6e21e6f0-dbdd-47ae-b579-6b8b166a67a6",
   "metadata": {
    "tags": []
   },
   "source": [
    "Performance: 112.95s user 0.50s system 99% cpu 1:53.47 total"
   ]
  },
  {
   "cell_type": "markdown",
   "id": "14eb5073-e859-4a1f-a57c-f0fc7c327ea9",
   "metadata": {},
   "source": [
    "here is an simple test to proof baisc logic of the nest loop , they would generate all possible combination based on these idea"
   ]
  },
  {
   "cell_type": "code",
   "execution_count": null,
   "id": "33fd05eb-f0de-4bd8-b840-10c68d72eac8",
   "metadata": {},
   "outputs": [],
   "source": [
    "for i in range(1,4+1):\n",
    "    for j in range(i+1,5):\n",
    "        print(i, j)"
   ]
  },
  {
   "cell_type": "markdown",
   "id": "c4011ece-42f1-4b87-9dd7-7cc28f1a1b50",
   "metadata": {},
   "source": [
    "reflect on this version:\n",
    "+ Pros   \n",
    "  - Easier removing untargetted output   \n",
    "    - Since everything is more specified, it is easier for removing small introns and exons   \n",
    "    - we don't external def function there\n",
    "  - Less time complexity\n",
    "    - approximately `O(nlogn)` would be larger if max_exon comes more than 3   \n",
    "    - since the combination n is collpasing through out the loop   \n",
    "+ Cons\n",
    "  - nobody wants such big truck of garbage code\n",
    "    - max_exon could not even fix there\n",
    "    - this could actually be fixed by using recursion method"
   ]
  },
  {
   "cell_type": "markdown",
   "id": "29c9501d-4091-408f-97e8-3daa8454b83e",
   "metadata": {
    "tags": []
   },
   "source": [
    "## Idea 3\n",
    "space complexity for time complexity"
   ]
  },
  {
   "cell_type": "markdown",
   "id": "5fad57a2-3c16-49c5-9b29-1f477485e090",
   "metadata": {},
   "source": [
    "all previous idea make action on improving the overall `time complexity` for optimization   \n",
    "the next trail for this idea is consuming more `space complexity` for better faster output    \n",
    "below is the single proof for our idea"
   ]
  },
  {
   "cell_type": "code",
   "execution_count": 8,
   "id": "b9b3cf25-469d-4187-9275-445e3d96f07f",
   "metadata": {
    "tags": []
   },
   "outputs": [
    {
     "name": "stdout",
     "output_type": "stream",
     "text": [
      "1 5\n",
      "2 4\n",
      "3 3\n",
      "4 2\n",
      "5 1\n"
     ]
    }
   ],
   "source": [
    "for i, j in zip( range(1,6), range(5,0,-1)):\n",
    "    print(i, j)"
   ]
  },
  {
   "cell_type": "code",
   "execution_count": null,
   "id": "ae7eab0c-80bf-4dd2-9a06-7ab2d4622676",
   "metadata": {},
   "outputs": [],
   "source": [
    "flank = 100\n",
    "minex = 50\n",
    "minin = 50\n",
    "d, a, dons, accs = gtag_sites(seq, flank, minex)\n",
    "\n",
    "for d1, rd1 in zip( range(1, d+1), range(d+1, 1, -1) ):\n",
    "    if dons[d1] < minex + flank + 1: continue\n",
    "    \n",
    "    for a1 in range(1, a+1):\n",
    "        if accs[a1] < dons[d1] + minin: continue\n",
    "\n",
    "        for d2 in range(d1+1, d+1):\n",
    "            if dons[d2] < accs[a1] + minex: continue\n",
    "\n",
    "            for a2 in range(a1+1, a+1):\n",
    "                if accs[a2] < dons[d2] + minin: continue\n",
    "\n",
    "                for d3 in range(d2+1, d+1):\n",
    "                    if dons[d3] < accs[a2] + minex: continue\n",
    "                    \n",
    "                    for a3 in range(a2+1, a+1):\n",
    "                        if accs[a3] < minin + dons[d3]: continue\n",
    "                        if accs[a3] + flank + minex > len(seq):  continue\n",
    "                        print( dons[d1], accs[a1], dons[d2], accs[a2], dons[d3], accs[a3] )"
   ]
  },
  {
   "cell_type": "markdown",
   "id": "47320bd8-54ef-4e4a-804a-a754d6c12169",
   "metadata": {},
   "source": [
    "seq = '''AGGTTTTCAGTCTGCGTATCTAAATCAGCATTAATAACAATGAGGCGAGGATAACAGCAA\n",
    "TCGGGCCTCTAGTCCTTTTTGCTGGCCAAAGTGAACGTCAGCTAGGTAACGTTGCGCATT\n",
    "CAAAGACGAGTAGTGTCGCGAAACAAATAGTTATCAGTGCTACAATTACATGCGCAACAA\n",
    "TTGAGGAGTTAAGGCACTACCACGGAACAGAGACCGTGTGCCAGGAGAAGTGGTACGATT\n",
    "GCTCCTGACAGTTGCCGACTCCGGGCGCATTGACTGTCACTTCGAAGTCATGGCACCGAG\n",
    "GGGCTAGCCGGACCTCGGTAGCAGGCCCGTAGTCCTCCAGAGAGACACAGGTTTCGTACT\n",
    "CCTAGTGAGAAATAATATCACCTGATCCCATGTTCACTAGGACCGTCACTAGCTTGCCTA\n",
    "TGTGGCACAACGCAGGGAGCCAGATACAAATGAATCGCTAGCGGTTGCTGGCCCATGCCT\n",
    "GGGCTATCTTAGTGACATTGGGCTGGAAAGGACAGTGCTGAGTATGGATGCCAGAAAAAA\n",
    "GCCTAGACCGTGTGGGTGCTCGGACCGATCACCTCATTCACACACGACTTCATGCCGACT\n",
    "TCCTCACGCTTGGTGGTATTCTCAGCGATATGGGTAGAATTCCCTGCTCAAGCCGGTGGT\n",
    "TTATTGTGTTTGCGCTTCGGCAGGACGCTGCCTCGTGGGATCTCGATTTTAGCTGTGCCA\n",
    "ATCAGCAATTTAGGAGAGCATATACATTGTTAACAACCCTATTTTACCTTACTCAGTAGG\n",
    "TGCTACACTCTTTTACGTTAATGCCGTTATCCTCATAGACAGGTTACGTGGCGTGCGGCT\n",
    "AGCGAGAGTGAGAAGTTGTCTTCACAGGATGTTTAGCTAAAGACTCACCGCAGCTCGTTC\n",
    "TCAACGACGCTTGTTCACCGAAAAAAGTAAAGTGAGTTCCTACCCTTTGATAATATGTAT\n",
    "TGGCGTGCTTGCGACGCCTGGCCTCAACAGATGCCCAGCTACCCTCATGGGGGGACTCGA\n",
    "CACTCTACCCCTATTGGGACAGGTGAGACCTTTGGTCCTAGATGTTCTTCTCTCTCTAAG\n",
    "CTCAGCTTATAATGCCGGTTAATTTGGCAACCCCCGTAAGTTGCCAGTTACTGATGTACG\n",
    "GAAGGAGCCCTCCGTTGGGCCCGAAAACTCGATCGGTATGTCGGCCGATCCCCCCCCCAA\n",
    "ACGAAAACAAGTTTCATTTAGTAGAGACGTACACTAACTGAAGTTGGGTCGACACGGCAT\n",
    "TGCCGACAGTATTCTTTGTGTTCATCCTTCACGCAATAGCTCTAGGTCACCTATTGGGAG\n",
    "TACGCAGTGACGATAAGTAGTGCACTAATTAGTACAGTCAGAGTCGTCATCGGAGCACTG\n",
    "CAGCCTTGACGCGCTCATGCTTCTCTAGTCCTTGGACTTGGAGCCCACGTGTAGTGCTAG\n",
    "GCACCCAAACAGTGATGTAGCCGAAACAATATATTTCCTGGATGACTCGTCCTTGAATCC'''"
   ]
  }
 ],
 "metadata": {
  "kernelspec": {
   "display_name": "Python 3 (ipykernel)",
   "language": "python",
   "name": "python3"
  },
  "language_info": {
   "codemirror_mode": {
    "name": "ipython",
    "version": 3
   },
   "file_extension": ".py",
   "mimetype": "text/x-python",
   "name": "python",
   "nbconvert_exporter": "python",
   "pygments_lexer": "ipython3",
   "version": "3.12.7"
  }
 },
 "nbformat": 4,
 "nbformat_minor": 5
}
