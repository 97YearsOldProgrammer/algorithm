{
 "cells": [
  {
   "cell_type": "markdown",
   "id": "17308ed8-a5f0-4ccc-8868-769ff030bb66",
   "metadata": {},
   "source": [
    "### Test data set\n",
    "\n",
    "> Length = 1500bps   \n",
    "> Flank  = 100bps   \n",
    "> Minin  = 50bps   \n",
    "> Minex  = 50bps   \n",
    "> Maxs   = 3\n",
    "\n",
    "For later double check about the result   \n",
    "The sequence we used:    "
   ]
  },
  {
   "cell_type": "markdown",
   "id": "eaf41df4-357f-4b3b-8e36-6c3be28c6a56",
   "metadata": {},
   "source": [
    "seq = '''AGGTTTTCAGTCTGCGTATCTAAATCAGCATTAATAACAATGAGGCGAGGATAACAGCAA\n",
    "TCGGGCCTCTAGTCCTTTTTGCTGGCCAAAGTGAACGTCAGCTAGGTAACGTTGCGCATT\n",
    "CAAAGACGAGTAGTGTCGCGAAACAAATAGTTATCAGTGCTACAATTACATGCGCAACAA\n",
    "TTGAGGAGTTAAGGCACTACCACGGAACAGAGACCGTGTGCCAGGAGAAGTGGTACGATT\n",
    "GCTCCTGACAGTTGCCGACTCCGGGCGCATTGACTGTCACTTCGAAGTCATGGCACCGAG\n",
    "GGGCTAGCCGGACCTCGGTAGCAGGCCCGTAGTCCTCCAGAGAGACACAGGTTTCGTACT\n",
    "CCTAGTGAGAAATAATATCACCTGATCCCATGTTCACTAGGACCGTCACTAGCTTGCCTA\n",
    "TGTGGCACAACGCAGGGAGCCAGATACAAATGAATCGCTAGCGGTTGCTGGCCCATGCCT\n",
    "GGGCTATCTTAGTGACATTGGGCTGGAAAGGACAGTGCTGAGTATGGATGCCAGAAAAAA\n",
    "GCCTAGACCGTGTGGGTGCTCGGACCGATCACCTCATTCACACACGACTTCATGCCGACT\n",
    "TCCTCACGCTTGGTGGTATTCTCAGCGATATGGGTAGAATTCCCTGCTCAAGCCGGTGGT\n",
    "TTATTGTGTTTGCGCTTCGGCAGGACGCTGCCTCGTGGGATCTCGATTTTAGCTGTGCCA\n",
    "ATCAGCAATTTAGGAGAGCATATACATTGTTAACAACCCTATTTTACCTTACTCAGTAGG\n",
    "TGCTACACTCTTTTACGTTAATGCCGTTATCCTCATAGACAGGTTACGTGGCGTGCGGCT\n",
    "AGCGAGAGTGAGAAGTTGTCTTCACAGGATGTTTAGCTAAAGACTCACCGCAGCTCGTTC\n",
    "TCAACGACGCTTGTTCACCGAAAAAAGTAAAGTGAGTTCCTACCCTTTGATAATATGTAT\n",
    "TGGCGTGCTTGCGACGCCTGGCCTCAACAGATGCCCAGCTACCCTCATGGGGGGACTCGA\n",
    "CACTCTACCCCTATTGGGACAGGTGAGACCTTTGGTCCTAGATGTTCTTCTCTCTCTAAG\n",
    "CTCAGCTTATAATGCCGGTTAATTTGGCAACCCCCGTAAGTTGCCAGTTACTGATGTACG\n",
    "GAAGGAGCCCTCCGTTGGGCCCGAAAACTCGATCGGTATGTCGGCCGATCCCCCCCCCAA\n",
    "ACGAAAACAAGTTTCATTTAGTAGAGACGTACACTAACTGAAGTTGGGTCGACACGGCAT\n",
    "TGCCGACAGTATTCTTTGTGTTCATCCTTCACGCAATAGCTCTAGGTCACCTATTGGGAG\n",
    "TACGCAGTGACGATAAGTAGTGCACTAATTAGTACAGTCAGAGTCGTCATCGGAGCACTG\n",
    "CAGCCTTGACGCGCTCATGCTTCTCTAGTCCTTGGACTTGGAGCCCACGTGTAGTGCTAG\n",
    "GCACCCAAACAGTGATGTAGCCGAAACAATATATTTCCTGGATGACTCGTCCTTGAATCC'''"
   ]
  },
  {
   "cell_type": "markdown",
   "id": "12c8be13-d945-4631-b6ec-93977c1ee348",
   "metadata": {},
   "source": [
    "### Idea1\n",
    "using different nested loop so we could do more precise unsatisfied intron and exon remove"
   ]
  },
  {
   "cell_type": "code",
   "execution_count": null,
   "id": "d7beb08d-93b6-4a0d-9973-d18f3c310b0a",
   "metadata": {},
   "outputs": [],
   "source": [
    "def gtag_sites(seq, flank, minex):\n",
    "    dons = []\n",
    "    accs = []\n",
    "    for i in range(flank + minex, len(seq) -flank -minex -1):\n",
    "        if seq[i:i+2]   == 'GT': dons.append(i)\n",
    "        if seq[i-1:i+1] == 'AG': accs.append(i)\n",
    "    return dons, accs"
   ]
  },
  {
   "cell_type": "markdown",
   "id": "c7678f67-8fb2-4b86-a672-b7bb398d5049",
   "metadata": {},
   "source": [
    "using original `gtag extracting` doesn't work that well\n",
    "original one gives out dons and accs in version of list\n",
    "\n",
    "> dons = []   \n",
    "> accs = []   \n",
    "\n",
    "since for using up a for loop to make all possible combination, we also need the enumerate so that each time when the nested loop pass down to the next combination\n",
    "there would require more memory and time complexity for computer to keep track of those numbers"
   ]
  },
  {
   "cell_type": "code",
   "execution_count": null,
   "id": "88d476d9-80bf-4c7c-9f74-3830f49006b9",
   "metadata": {},
   "outputs": [],
   "source": [
    "dons, accs = gtag_sites(seq, 100, 50)\n",
    "\n",
    "for i1, d1 in enumerate(dons):\n",
    "    if d1 - 100 -1 < 50: continue\n",
    "    \n",
    "    for j1, a1 in enumerate(accs):\n",
    "        if a1 - d1 < 50: continue\n",
    "        \n",
    "        for i2, d2 in enumerate(dons[i1:]):\n",
    "            if d2 - a1 < 50: continue\n",
    "            \n",
    "            for j2, a2 in enumerate(accs[j1:]):\n",
    "                if a2 - d2 < 50: continue\n",
    "                \n",
    "                for i3, d3 in enumerate(dons[i2:]):\n",
    "                    if d3 - a2 < 50: continue\n",
    "            \n",
    "                    for a3 in accs[j2:]:\n",
    "                        if a3 - d3 < 50: continue\n",
    "                        if a3 - 100 - 1 < 50:  continue\n",
    "                        print(d1, a1, d2, a2, d3, a3)"
   ]
  },
  {
   "cell_type": "markdown",
   "id": "6fa9e619-7674-4dfa-93de-3cea7919a27f",
   "metadata": {
    "tags": []
   },
   "source": [
    "Performance: 110.64s user 0.56s system 99% cpu 1:51.22 total"
   ]
  },
  {
   "cell_type": "markdown",
   "id": "0665a566-6154-4410-bfdb-8cca2d988554",
   "metadata": {
    "tags": []
   },
   "source": [
    "### Idea2   \n",
    "using dictionary instead of list for donor and acceptor site"
   ]
  },
  {
   "cell_type": "code",
   "execution_count": null,
   "id": "054bbd82-6e43-4800-85b6-891faf8a9e75",
   "metadata": {
    "tags": []
   },
   "outputs": [],
   "source": [
    "def gtag_sites(seq, flank, minex):\n",
    "    dons = {}\n",
    "    accs = {}\n",
    "    d = 0\n",
    "    a = 0\n",
    "    for i in range(flank + minex, len(seq) -flank -minex -1):\n",
    "        if seq[i:i+2]   == 'GT': \n",
    "            d += 1\n",
    "            dons[d] = i\n",
    "        if seq[i-1:i+1] == 'AG': \n",
    "            a += 1\n",
    "            accs[a] = i\n",
    "    return d, a, dons, accs"
   ]
  },
  {
   "cell_type": "markdown",
   "id": "2a0c90df-baa8-4c1f-9d6e-a01927dd4e17",
   "metadata": {},
   "source": [
    "in the revised version, the gtag sites use a dictionary for extracting informaton   \n",
    "\n",
    "> dons = { `index`(int) : `donor site`(int)...}   \n",
    "> accs = { `index`(int) : `accep site`(int)...}   \n",
    "\n",
    "it would generate better performance when extracting ideal output and faster through looping"
   ]
  },
  {
   "cell_type": "code",
   "execution_count": null,
   "id": "978e7527-a8f1-40d4-a7b2-a41ccd20c759",
   "metadata": {},
   "outputs": [],
   "source": [
    "flank = 100\n",
    "minex = 50\n",
    "minin = 50\n",
    "d, a, dons, accs = gtag_sites(seq, flank, minex)\n",
    "\n",
    "for d1 in range(1, d+1):\n",
    "    if dons[d1] < minex + flank + 1: continue\n",
    "    \n",
    "    for a1 in range(1, a+1):\n",
    "        if accs[a1] < dons[d1] + minin: continue\n",
    "\n",
    "        for d2 in range(d1+1, d+1):\n",
    "            if dons[d2] < accs[a1] + minex: continue\n",
    "\n",
    "            for a2 in range(a1+1, a+1):\n",
    "                if accs[a2] < dons[d2] + minin: continue\n",
    "\n",
    "                for d3 in range(d2+1, d+1):\n",
    "                    if dons[d3] < accs[a2] + minex: continue\n",
    "                    \n",
    "                    for a3 in range(a2+1, a+1):\n",
    "                        if accs[a3] < minin + dons[d3]: continue\n",
    "                        if accs[a3] + flank + minex > len(seq):  continue\n",
    "                        print( dons[d1], accs[a1], dons[d2], accs[a2], dons[d3], accs[a3] )"
   ]
  },
  {
   "cell_type": "markdown",
   "id": "6e21e6f0-dbdd-47ae-b579-6b8b166a67a6",
   "metadata": {
    "tags": []
   },
   "source": [
    "Performance: 112.95s user 0.50s system 99% cpu 1:53.47 total"
   ]
  },
  {
   "cell_type": "markdown",
   "id": "14eb5073-e859-4a1f-a57c-f0fc7c327ea9",
   "metadata": {},
   "source": [
    "here is an simple test to proof baisc logic of the nest loop , they would generate all possible combination based on these idea"
   ]
  },
  {
   "cell_type": "code",
   "execution_count": null,
   "id": "33fd05eb-f0de-4bd8-b840-10c68d72eac8",
   "metadata": {},
   "outputs": [],
   "source": [
    "for i in range(1,4+1):\n",
    "    for j in range(i+1,5):\n",
    "        print(i, j)"
   ]
  },
  {
   "cell_type": "markdown",
   "id": "c4011ece-42f1-4b87-9dd7-7cc28f1a1b50",
   "metadata": {},
   "source": [
    "reflect on this version:\n",
    "+ Pros   \n",
    "  - Easier removing untargetted output   \n",
    "    - Since everything is more specified, it is easier for removing small introns and exons   \n",
    "    - we don't external def function there\n",
    "  - Less time complexity\n",
    "    - approximately `O(nlogn)` would be larger if max_exon comes more than 3   \n",
    "    - since the combination n is collpasing through out the loop   \n",
    "+ Cons\n",
    "  - nobody wants such big truck of garbage code\n",
    "    - max_exon could not even fix there\n",
    "    - this could actually be fixed by using recursion method"
   ]
  },
  {
   "cell_type": "markdown",
   "id": "29c9501d-4091-408f-97e8-3daa8454b83e",
   "metadata": {
    "tags": []
   },
   "source": [
    "## Idea 3\n",
    "space complexity for time complexity"
   ]
  },
  {
   "cell_type": "markdown",
   "id": "5fad57a2-3c16-49c5-9b29-1f477485e090",
   "metadata": {},
   "source": [
    "all previous idea make action on improving the overall `time complexity` for optimization   \n",
    "the next trail for this idea is consuming more `space complexity` for better faster output    \n",
    "below is the single proof for our idea"
   ]
  },
  {
   "cell_type": "code",
   "execution_count": 8,
   "id": "b9b3cf25-469d-4187-9275-445e3d96f07f",
   "metadata": {
    "tags": []
   },
   "outputs": [
    {
     "name": "stdout",
     "output_type": "stream",
     "text": [
      "1 5\n",
      "2 4\n",
      "3 3\n",
      "4 2\n",
      "5 1\n"
     ]
    }
   ],
   "source": [
    "for i, j in zip( range(1,6), range(5,0,-1)):\n",
    "    print(i, j)"
   ]
  },
  {
   "cell_type": "markdown",
   "id": "11fc3f9a-b900-46c3-b4b3-59186310d48d",
   "metadata": {
    "tags": []
   },
   "source": [
    "### Coding"
   ]
  },
  {
   "cell_type": "markdown",
   "id": "dee2f515-ee33-485c-9ce9-a45823a6b86a",
   "metadata": {},
   "source": [
    "btw the key question is; **which one are we gonna making it reversely, coupled with each for loop?**   \n",
    "we have two choices:\n",
    "- [solution1]\n",
    "  - make similar stuff runnning spontaneouly btw from the end \n",
    "  - zip one donor site from beginning of donor site and donor site from end of donor site\n",
    "- ~~[solution2]~~\n",
    "  - make different stuff running the acceptor site from the end\n",
    "  - zip another acceptor site from end of acceptor site \n",
    "  - do the question at the same time btw completely in reverse order"
   ]
  },
  {
   "cell_type": "markdown",
   "id": "65d7d339-0e35-4ff2-9963-09b9e7fa2909",
   "metadata": {},
   "source": [
    "### Why solution 2 not working?\n",
    "\n",
    "- Solution 2 could not capable of not generating same result(wasting time)\n",
    "- Solution 2 is messy whenever we want to code it\n",
    "  - here is how it looks like when max combination aka n=1, this is horrible\n"
   ]
  },
  {
   "cell_type": "code",
   "execution_count": null,
   "id": "03923159-e5bd-4585-8ac1-86e01d7fe90a",
   "metadata": {},
   "outputs": [],
   "source": [
    "fgc = True\n",
    "rgc = True\n",
    "fgv = None\n",
    "rgv = None\n",
    "\n",
    "for fd1 in range(1, d+1):\n",
    "    # update gate control\n",
    "    fgc = dons[fd1] >= minex + flank + 1\n",
    "    ra1 = len(accs) - fd1 + 1\n",
    "    rgc = accs[ra1] <= len(seq) - flank - minex\n",
    "    if not(fgc and rgc): continue\n",
    "    # track global value\n",
    "    fgv, rgv = dons[fd1], accs[ra1]\n",
    "\n",
    "    for fa1 in range(1, a+1):\n",
    "        # update gate control\n",
    "        if fgc: fgc = accs[fa1] >= fgv + minin\n",
    "        rd1 = len(dons) - fa1 + 1\n",
    "        if rgc: rgc = dons[rd1] <= rgv - minin\n",
    "        if not(fgc and rgc): continue\n",
    "        # track global value\n",
    "        fgv, rgv = accs[fa1], dons[rd1]"
   ]
  },
  {
   "cell_type": "markdown",
   "id": "ab987733-7cb9-4dd8-b227-1c29a92400bb",
   "metadata": {
    "tags": []
   },
   "source": [
    "### Solution1\n",
    "We do permutation from beg to end while coupling with permutation from end to beg"
   ]
  },
  {
   "cell_type": "code",
   "execution_count": null,
   "id": "6a86b8d9-9b5b-4f07-9252-27df508d40b3",
   "metadata": {
    "tags": []
   },
   "outputs": [],
   "source": [
    "def gtag_sites(seq, flank, minex):\n",
    "    dons = {}\n",
    "    accs = {}\n",
    "    d = 0\n",
    "    a = 0\n",
    "    for i in range(flank + minex, len(seq) -flank -minex -1):\n",
    "        if seq[i:i+2]   == 'GT': \n",
    "            d += 1\n",
    "            dons[d] = i\n",
    "        if seq[i-1:i+1] == 'AG': \n",
    "            a += 1\n",
    "            accs[a] = i\n",
    "    return d, a, dons, accs\n",
    "\n",
    "seq = '''AGGTTTTCAGTCTGCGTATCTAAATCAGCATTAATAACAATGAGGCGAGGATAACAGCAA\n",
    "TCGGGCCTCTAGTCCTTTTTGCTGGCCAAAGTGAACGTCAGCTAGGTAACGTTGCGCATT\n",
    "CAAAGACGAGTAGTGTCGCGAAACAAATAGTTATCAGTGCTACAATTACATGCGCAACAA\n",
    "TTGAGGAGTTAAGGCACTACCACGGAACAGAGACCGTGTGCCAGGAGAAGTGGTACGATT\n",
    "GCTCCTGACAGTTGCCGACTCCGGGCGCATTGACTGTCACTTCGAAGTCATGGCACCGAG\n",
    "GGGCTAGCCGGACCTCGGTAGCAGGCCCGTAGTCCTCCAGAGAGACACAGGTTTCGTACT\n",
    "CCTAGTGAGAAATAATATCACCTGATCCCATGTTCACTAGGACCGTCACTAGCTTGCCTA\n",
    "TGTGGCACAACGCAGGGAGCCAGATACAAATGAATCGCTAGCGGTTGCTGGCCCATGCCT\n",
    "GGGCTATCTTAGTGACATTGGGCTGGAAAGGACAGTGCTGAGTATGGATGCCAGAAAAAA\n",
    "GCCTAGACCGTGTGGGTGCTCGGACCGATCACCTCATTCACACACGACTTCATGCCGACT\n",
    "TCCTCACGCTTGGTGGTATTCTCAGCGATATGGGTAGAATTCCCTGCTCAAGCCGGTGGT\n",
    "TTATTGTGTTTGCGCTTCGGCAGGACGCTGCCTCGTGGGATCTCGATTTTAGCTGTGCCA\n",
    "ATCAGCAATTTAGGAGAGCATATACATTGTTAACAACCCTATTTTACCTTACTCAGTAGG\n",
    "TGCTACACTCTTTTACGTTAATGCCGTTATCCTCATAGACAGGTTACGTGGCGTGCGGCT\n",
    "AGCGAGAGTGAGAAGTTGTCTTCACAGGATGTTTAGCTAAAGACTCACCGCAGCTCGTTC\n",
    "TCAACGACGCTTGTTCACCGAAAAAAGTAAAGTGAGTTCCTACCCTTTGATAATATGTAT\n",
    "TGGCGTGCTTGCGACGCCTGGCCTCAACAGATGCCCAGCTACCCTCATGGGGGGACTCGA\n",
    "CACTCTACCCCTATTGGGACAGGTGAGACCTTTGGTCCTAGATGTTCTTCTCTCTCTAAG\n",
    "CTCAGCTTATAATGCCGGTTAATTTGGCAACCCCCGTAAGTTGCCAGTTACTGATGTACG\n",
    "GAAGGAGCCCTCCGTTGGGCCCGAAAACTCGATCGGTATGTCGGCCGATCCCCCCCCCAA\n",
    "ACGAAAACAAGTTTCATTTAGTAGAGACGTACACTAACTGAAGTTGGGTCGACACGGCAT\n",
    "TGCCGACAGTATTCTTTGTGTTCATCCTTCACGCAATAGCTCTAGGTCACCTATTGGGAG\n",
    "TACGCAGTGACGATAAGTAGTGCACTAATTAGTACAGTCAGAGTCGTCATCGGAGCACTG\n",
    "CAGCCTTGACGCGCTCATGCTTCTCTAGTCCTTGGACTTGGAGCCCACGTGTAGTGCTAG\n",
    "GCACCCAAACAGTGATGTAGCCGAAACAATATATTTCCTGGATGACTCGTCCTTGAATCC'''\n",
    "\n",
    "flank = 100\n",
    "minex = 50\n",
    "minin = 50\n",
    "d, a, dons, accs = gtag_sites(seq, flank, minex)\n",
    "\n",
    "# fdn = forward donor site n    fan = forward acceptor site n\n",
    "# ran = reverse acceptor site n rdn = reverse donor site n\n",
    "# fgc = forward gate control     rgc = reverse gate control\n",
    "# fgv = forward global value    rgv = reverse global value\n",
    "\n",
    "fgc = True\n",
    "rgc = True\n",
    "fgv = None\n",
    "rgv = None\n",
    "\n",
    "for fd1 in range(1, d+1):\n",
    "    # exit output\n",
    "    rd1 = len(dons) - fd1 + 1\n",
    "    if rd1 < fd1: break\n",
    "    # collecting boolean\n",
    "    fgc = dons[fd1] >= minex + flank + 1\n",
    "    rgc = dons[rd1] >= minex + flank + 1\n",
    "    if not(fgc or rgc): continue\n",
    "    \n",
    "    for fa1 in range(1, a+1):\n",
    "        # skip current loop\n",
    "        if   fgc and rgc:\n",
    "            fgc1 = accs[fa1] >= dons[fd1] + minin\n",
    "            ra1 = len(accs) - fa1 + 1\n",
    "            rgc1 = accs[ra1] >= dons[rd1] + minin\n",
    "            if not(fgc1 or rgc1): continue \n",
    "        elif fgc and not rgc:\n",
    "            fgc1 = accs[fa1] >= dons[fd1] + minin\n",
    "            if not fgc1: continue\n",
    "            rgc1 = False\n",
    "        elif rgc and not fgc:\n",
    "            ra1 = len(accs) - fa1 + 1\n",
    "            rgc1 = accs[ra1] >= dons[rd1] + minin\n",
    "            if not rgc1: continue\n",
    "            fgc1 = False\n",
    "        \n",
    "        for fd2 in range(fd1 + 1, d+1):\n",
    "            if fgc1 and rgc1: \n",
    "                fgc2 = dons[fd2] >= accs[fa1] + minin\n",
    "                rd2 = len(dons) - fd2 + 1\n",
    "                rgc2 = dons[rd2] >= accs[ra1] + minin\n",
    "                if not (fgc2 or rgc2): continue \n",
    "            elif fgc1 and not rgc1:\n",
    "                fgc2 = dons[fd2] >= accs[fa1] + minin\n",
    "                if not fgc2: continue\n",
    "                rgc2 = False    \n",
    "            elif rgc1 and not fgc1:\n",
    "                rd2 = len(dons) - fd2 + 1\n",
    "                rgc2 = dons[rd2] >= accs[ra1] + minin\n",
    "                if not rgc2: continue\n",
    "                fgc2 = False\n",
    "    \n",
    "            for fa2 in range(fa1 + 1, a+1):\n",
    "                if fgc2 and rgc2:\n",
    "                    fgc3 = accs[fa2] >= dons[fd2] + minin\n",
    "                    ra2  = len(accs) - fa2 +1\n",
    "                    rgc3 = accs[ra2] >= dons[rd2] + minin\n",
    "                    if not (fgc3 or rgc3): continue\n",
    "                elif fgc2 and not rgc2:\n",
    "                    fgc3 = accs[fa2] >= dons[fd2] + minin\n",
    "                    if not fgc3: continue\n",
    "                    rgc3 = False\n",
    "                elif rgc2 and not fgc2:\n",
    "                    ra2  = len(accs) - fa2 +1\n",
    "                    rgc3 = accs[ra2] >= dons[rd2] + minin\n",
    "                    if not rgc3: continue\n",
    "                    fgc3 = False\n",
    "    \n",
    "                for fd3 in range(fd2 + 1, d+1):\n",
    "                    if   fgc3 and rgc3:\n",
    "                        fgc4 = dons[fd3] >= accs[fa2] + minin\n",
    "                        rd3 = len(dons) - fd3 + 1\n",
    "                        rgc4 = dons[rd3] >= accs[ra2] + minin\n",
    "                        if not (fgc4 or rgc4): continue\n",
    "                    elif fgc3 and not rgc3:\n",
    "                        fgc4 = dons[fd3] >= accs[fa2] + minin\n",
    "                        if not fgc4: continue\n",
    "                        rgc4 = False\n",
    "                    elif rgc3 and not fgc3:\n",
    "                        rd3 = len(dons) - fd3 + 1\n",
    "                        rgc4 = dons[rd3] >= accs[ra2] + minin\n",
    "                        if not rgc4: continue\n",
    "                        fgc4 = False\n",
    "                    \n",
    "                    for fa3 in range(fa2 + 1, a+1):\n",
    "                        if fgc4 and rgc4:\n",
    "                            fgc5 = accs[fa3] >= minin + dons[fd3]\n",
    "                            fgc6 = accs[fa3] + flank + minex <= len(seq)\n",
    "                            ra3 = len(accs) - fa3 + 1\n",
    "                            rgc5 = accs[ra3] >= minin + dons[rd3]\n",
    "                            rgc6 = accs[ra3] + flank + minex <= len(seq)\n",
    "                            if fgc5 and fgc6: print( dons[fd1], accs[fa1], dons[fd2], accs[fa2], dons[fd3], accs[fa3] )\n",
    "                            if rgc5 and rgc6: print( dons[rd1], accs[ra1], dons[rd2], accs[ra2], dons[rd3], accs[ra3] )\n",
    "                            if not(fgc5 and fgc6) and not(rgc5 and rgc6): continue\n",
    "                        elif fgc4 and not rgc4:\n",
    "                            fgc5 = accs[fa3] >= minin + dons[fd3]\n",
    "                            fgc6 = accs[fa3] + flank + minex <= len(seq)\n",
    "                            if fgc5 and fgc6: print( dons[fd1], accs[fa1], dons[fd2], accs[fa2], dons[fd3], accs[fa3] )\n",
    "                            else: continue\n",
    "                        elif rgc4 and not fgc4:\n",
    "                            ra3 = len(accs) - fa3 + 1\n",
    "                            rgc5 = accs[ra3] >= minin + dons[rd3]\n",
    "                            rgc6 = accs[ra3] + flank + minex <= len(seq)\n",
    "                            if rgc5 and rgc6: print( dons[rd1], accs[ra1], dons[rd2], accs[ra2], dons[rd3], accs[ra3] )\n",
    "                            else: continue"
   ]
  },
  {
   "cell_type": "markdown",
   "id": "47320bd8-54ef-4e4a-804a-a754d6c12169",
   "metadata": {},
   "source": [
    "## Check\n",
    "\n",
    "with 1524 basepair input with 62 donor site and 66 acceptor site   \n",
    "flank length = 150   \n",
    "min ex = 100   \n",
    "min in = 100   \n",
    "\n",
    "> `1515018 combination` from idea2   \n",
    "> `1515018 combination` from solution1 \n",
    "\n",
    "time consumed for each on   \n",
    "\n",
    "> idea2: 3.16s user 0.04s system 99% cpu 3.227 total\n",
    "> solution1: 5.12s user 0.06s system 99% cpu 5.195 total\n",
    "\n",
    "This proof that solution 2 would generate the correct result\n",
    "\n",
    "with 1524 basepair input with 62 donor site and 66 acceptor site    \n",
    "flank length = 100    \n",
    "min ex = 50   \n",
    "min in = 50   \n",
    "There is unpair with idea2 and solution1 values; btw solution 1 are more diversed, i guess there is sort of limitation with current computer\n",
    "> `Current hypothesis`: solution 1 works better with larger input and idea2 works wiht smaller input."
   ]
  },
  {
   "cell_type": "markdown",
   "id": "e0bf054a-b7ce-4621-9f01-ccfb94e096ac",
   "metadata": {
    "tags": []
   },
   "source": [
    "## Backtrackcing Algorithm\n",
    "\n",
    "it is something similar to idea of iteration but way harder   \n",
    "this would help in overall code neatness for this algorithm\n",
    "this gonna work on the idea 1 ; input is two list and finish this with a sort of tree \n",
    "\n",
    "> Estimated time complexity O(2*2^n)   \n",
    "> Estimated Space complexity O(n)   \n",
    "\n",
    "below is simple example for how recursion could do on calculating the factorial of something"
   ]
  },
  {
   "cell_type": "code",
   "execution_count": 16,
   "id": "a29e1dcd-2f42-4697-9270-2468afb030c6",
   "metadata": {
    "tags": []
   },
   "outputs": [
    {
     "name": "stdout",
     "output_type": "stream",
     "text": [
      "[[], [3], [2], [2, 3], [1], [1, 3], [1, 2], [1, 2, 3]]\n"
     ]
    }
   ],
   "source": [
    "nums = [1,2,3]\n",
    "\n",
    "def program(nums: list[int] ):\n",
    "    n = len(nums)\n",
    "    res, sol = [], []\n",
    "\n",
    "    def backtrack(i):\n",
    "        if i == n:\n",
    "            res.append(sol[:])\n",
    "            return\n",
    "        \n",
    "        backtrack(i+1)\n",
    "\n",
    "        sol.append(nums[i])\n",
    "        backtrack(i+1)\n",
    "        sol.pop()\n",
    "\n",
    "    backtrack(0)\n",
    "    return res\n",
    "\n",
    "print( program(nums) )"
   ]
  },
  {
   "cell_type": "markdown",
   "id": "565cf6f6-9253-4b44-ad65-1e4909629829",
   "metadata": {},
   "source": [
    "The performance of this for finding combination up to eight is:\n",
    "> 0.02s user 0.01s system 90% cpu 0.034 total.   \n",
    "\n",
    "Since the overall time complexity are quite simple.  \n",
    "Approximately reach to `O(2^n)`   \n",
    "number of going through + number of going back"
   ]
  },
  {
   "cell_type": "markdown",
   "id": "81eede5c-f270-4988-81b1-159843d7a933",
   "metadata": {
    "tags": []
   },
   "source": [
    "Let's make this program into the version that we are gonna used.   \n",
    "this time, we wanna make the overall program able to run in a tree with `len(list) input != depth` we want    \n",
    "> basically it's the fist step for everything    \n",
    "> since in the real part, we need to do two list with depth of 3 or 4   "
   ]
  },
  {
   "cell_type": "code",
   "execution_count": null,
   "id": "bbd44675-4a54-4d49-a224-8eea932be92e",
   "metadata": {},
   "outputs": [],
   "source": [
    "nums = [1,2,3,4,5]\n",
    "\n",
    "def program(nums: list[int], n: int ):\n",
    "    res, sol = [], []\n",
    "\n",
    "    def backtrack(i):\n",
    "        if i == n:\n",
    "            res.append(sol[:])\n",
    "            return\n",
    "        \n",
    "        if len(nums) - i < n - len(sol): return\n",
    "\n",
    "        for j in range(i, len(nums)):\n",
    "            sol.append(nums[j])\n",
    "            backtrack(i+1)\n",
    "            sol.pop()\n",
    "\n",
    "    backtrack(0)\n",
    "    return res\n",
    "\n",
    "print( program(nums, 3) )"
   ]
  },
  {
   "cell_type": "markdown",
   "id": "95ac0dc9-aaa4-4ec9-b9e2-b5d0e205d4f1",
   "metadata": {
    "tags": []
   },
   "source": [
    "In this version, we have two different trait:\n",
    "\n",
    "+ A for loop for putting all possible nodes instead of binary tree\n",
    "+ An exit boolean condition if there is no nodes available for reaching the designated depth.\n",
    "\n",
    "In the next on, we need to exclude every possible combination that don't follow the rule that we wish every number poped in is larger than what's before."
   ]
  },
  {
   "cell_type": "code",
   "execution_count": 21,
   "id": "71507081-c7af-47cc-aa06-1b6b5ae4b134",
   "metadata": {
    "tags": []
   },
   "outputs": [
    {
     "name": "stdout",
     "output_type": "stream",
     "text": [
      "[[1, 2, 3], [1, 2, 4], [1, 2, 5], [1, 3, 4], [1, 3, 5], [1, 4, 5], [2, 3, 4], [2, 3, 5], [2, 4, 5], [3, 4, 5]]\n"
     ]
    }
   ],
   "source": [
    "nums = [1,2,3,4,5]\n",
    "\n",
    "def program(nums: list[int], n: int ):\n",
    "    res, sol = [], []\n",
    "\n",
    "    def backtrack(i):\n",
    "        if i == n:\n",
    "            res.append(sol[:])\n",
    "            return\n",
    "        \n",
    "        if len(nums) - i < n - len(sol): return\n",
    "\n",
    "        for j in range(i, len(nums)):\n",
    "            if sol:\n",
    "                if nums[j] <= sol[-1]: continue\n",
    "            sol.append(nums[j])\n",
    "            backtrack(i+1)\n",
    "            sol.pop()\n",
    "\n",
    "    backtrack(0)\n",
    "    return res\n",
    "\n",
    "print( program(nums, 3) )"
   ]
  },
  {
   "cell_type": "markdown",
   "id": "1c5ac867-087c-4f7c-9df5-4880ebb7612b",
   "metadata": {},
   "source": [
    "Now, technically, this one is a sort of **min heap**.   \n",
    "What we did there is one stuff.   \n",
    "\n",
    "> We make a nested condition to check whether there is number in the solution space is there always the number that are larger than the previous node?    \n",
    "\n",
    "Basically, this line delete those nodes that are unsatifised our condition for a valid output. \n",
    "Moreover,\n",
    ">In the actual programmed output, we also need to count small-intron and small-exon whoever are stuff that are not \n",
    ">satisfied the basic condition of introns and exons.    \n",
    ">We shall count them globally before cutting off those nodes.\n"
   ]
  },
  {
   "cell_type": "markdown",
   "id": "f5d3d8a7-66fa-4044-bd73-d27c907b05e9",
   "metadata": {
    "tags": []
   },
   "source": [
    "required for next version     \n",
    "- select list1 as node whenever the depth is odd   \n",
    "- select list2 as node whenever the depth is even    \n",
    "- while also maintaining the condition that this is a min heap   "
   ]
  },
  {
   "cell_type": "code",
   "execution_count": null,
   "id": "2f99fec9-4018-45f6-ab21-d8778a7a1da9",
   "metadata": {},
   "outputs": [],
   "source": [
    "nums1 = [1,3,5,7,9]\n",
    "nums2 = [2,4,6,8,10]\n",
    "\n",
    "def program(nums1: list[int], nums2: list[int] , n: int ):\n",
    "    res, sol = [], []\n",
    "\n",
    "    def backtrack(i):\n",
    "        if i == n:\n",
    "            res.append(sol[:])\n",
    "            return\n",
    "        \n",
    "        if (n - i) % 2 == 0:\n",
    "            for n2 in range(i, len(nums2) ):\n",
    "                if sol:\n",
    "                    if nums2[n2] <= sol[-1]: continue\n",
    "                sol.append(nums2[n2])\n",
    "                backtrack(i+1)\n",
    "                sol.pop()\n",
    "        else: \n",
    "            for n1 in range(i, len(nums1) ):\n",
    "                if sol:\n",
    "                    if nums1[n1] <= sol[-1]: continue\n",
    "                sol.append(nums1[n1])\n",
    "                backtrack(i+1)\n",
    "                sol.pop()\n",
    "\n",
    "    backtrack(0)\n",
    "    return res\n",
    "\n",
    "print( program(nums1, nums2, 4) )"
   ]
  },
  {
   "cell_type": "markdown",
   "id": "7a8aef6c-483a-4ffa-b589-e669dc566f25",
   "metadata": {},
   "source": [
    "In this version, we successfully turn the original backtrack algorithm into what we want.  \n",
    "\n",
    "> nums2 == `donor    site`    \n",
    "> nums1 == `acceptor site`\n",
    "\n",
    "The next version gonna be the one that matches our needs."
   ]
  },
  {
   "cell_type": "code",
   "execution_count": null,
   "id": "ab18df36-905b-4108-9e7c-5a7f20b88758",
   "metadata": {},
   "outputs": [],
   "source": [
    "def gtag_sites(seq, flank, minex):\n",
    "    dons = []\n",
    "    accs = []\n",
    "    for i in range(flank + minex, len(seq) -flank -minex -1):\n",
    "        if seq[i:i+2]   == 'GT': dons.append(i)\n",
    "        if seq[i-1:i+1] == 'AG': accs.append(i)\n",
    "    return dons, accs\n",
    "\n",
    "flank = 100\n",
    "minex = 25\n",
    "minin = 25\n",
    "dons, accs = gtag_sites(seq, flank, minex)\n",
    "\n",
    "def program(accs: list[int], dons: list[int] , n: int ):\n",
    "    res, sol = [], []\n",
    "    info = {\n",
    "\t\t'trials' : 0,\n",
    "\t\t'donors': len(dons),\n",
    "\t\t'acceptors': len(accs),\n",
    "\t\t'short_intron': 0,\n",
    "\t\t'short_exon': 0,\n",
    "\t}\n",
    "    def backtrack(i):\n",
    "        if i == n:\n",
    "            if   sol[-1] + minex + flank > len(seq): return\n",
    "            elif sol[-1] + flank < len(seq) + minex: return\n",
    "            res.append(sol[:])\n",
    "            return\n",
    "        \n",
    "        if (n - i) % 2 == 0:\n",
    "            for n2 in range(i, len(dons) ):\n",
    "                info['trials'] += 1\n",
    "                if sol:\n",
    "                    if dons[n2] <= sol[-1] + minex:\n",
    "                        info['short_exon'] += 1\n",
    "                        continue\n",
    "                sol.append(dons[n2])\n",
    "                backtrack(i+1)\n",
    "                sol.pop()\n",
    "        else: \n",
    "            for n1 in range(i, len(accs) ):\n",
    "                info['trials'] += 1\n",
    "                if sol:\n",
    "                    if accs[n1] <= sol[-1] + minin:\n",
    "                        info['short_intron'] += 1\n",
    "                        continue\n",
    "                sol.append(accs[n1])\n",
    "                backtrack(i+1)\n",
    "                sol.pop()\n",
    "\n",
    "    backtrack(0)\n",
    "    return res, info"
   ]
  },
  {
   "cell_type": "markdown",
   "id": "3d60813f-fe7b-47ff-91b1-b3a7a9062b2d",
   "metadata": {
    "tags": []
   },
   "source": [
    "## Dynamic Programming\n",
    "it inherit idea of `recursion`, `divide and conquer`   \n",
    "using smaller part of question to solve question itself    \n",
    "since there is a patter that we use for this question:     \n",
    "here is the pattern"
   ]
  },
  {
   "cell_type": "code",
   "execution_count": null,
   "id": "c43aefcf-9dd0-4aef-b58e-5929fa764673",
   "metadata": {},
   "outputs": [],
   "source": []
  }
 ],
 "metadata": {
  "kernelspec": {
   "display_name": "Python 3 (ipykernel)",
   "language": "python",
   "name": "python3"
  },
  "language_info": {
   "codemirror_mode": {
    "name": "ipython",
    "version": 3
   },
   "file_extension": ".py",
   "mimetype": "text/x-python",
   "name": "python",
   "nbconvert_exporter": "python",
   "pygments_lexer": "ipython3",
   "version": "3.12.5"
  }
 },
 "nbformat": 4,
 "nbformat_minor": 5
}
